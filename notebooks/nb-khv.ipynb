{
 "cells": [
  {
   "cell_type": "code",
   "execution_count": 1,
   "metadata": {},
   "outputs": [],
   "source": [
    "import win32pdh\n",
    "import time"
   ]
  },
  {
   "cell_type": "code",
   "execution_count": 2,
   "metadata": {},
   "outputs": [],
   "source": [
    "def GetPerformanceAttributes(object, counter, instance = None, inum=-1,\n",
    "                             format = win32pdh.PDH_FMT_LONG, machine=None):\n",
    "    # NOTE: Many counters require 2 samples to give accurate results,\n",
    "    # including \"% Processor Time\" (as by definition, at any instant, a\n",
    "    # thread's CPU usage is either 0 or 100).  To read counters like this,\n",
    "    # you should copy this function, but keep the counter open, and call\n",
    "    # CollectQueryData() each time you need to know.\n",
    "    # See http://support.microsoft.com/default.aspx?scid=kb;EN-US;q262938\n",
    "    # and http://msdn.microsoft.com/library/en-us/dnperfmo/html/perfmonpt2.asp\n",
    "    # My older explanation for this was that the \"AddCounter\" process forced\n",
    "    # the CPU to 100%, but the above makes more sense :)\n",
    "    path = win32pdh.MakeCounterPath( (machine,object,instance, None, inum,counter) )\n",
    "    hq = win32pdh.OpenQuery()\n",
    "    try:\n",
    "        hc = win32pdh.AddCounter(hq, path)\n",
    "        try:\n",
    "            win32pdh.CollectQueryData(hq)\n",
    "            time.sleep(1)\n",
    "            win32pdh.CollectQueryData(hq)\n",
    "            type, val = win32pdh.GetFormattedCounterValue(hc, format)\n",
    "            return val\n",
    "        finally:\n",
    "            win32pdh.RemoveCounter(hc)\n",
    "    finally:\n",
    "        win32pdh.CloseQuery(hq)"
   ]
  },
  {
   "cell_type": "code",
   "execution_count": 7,
   "metadata": {},
   "outputs": [
    {
     "data": {
      "text/plain": [
       "0"
      ]
     },
     "execution_count": 7,
     "metadata": {},
     "output_type": "execute_result"
    }
   ],
   "source": [
    "x = GetPerformanceAttributes(\"Memory\", \"Pages/sec\")\n",
    "x"
   ]
  },
  {
   "cell_type": "code",
   "execution_count": null,
   "metadata": {},
   "outputs": [],
   "source": []
  }
 ],
 "metadata": {
  "kernelspec": {
   "display_name": "Python 3.10.6 ('env': venv)",
   "language": "python",
   "name": "python3"
  },
  "language_info": {
   "codemirror_mode": {
    "name": "ipython",
    "version": 3
   },
   "file_extension": ".py",
   "mimetype": "text/x-python",
   "name": "python",
   "nbconvert_exporter": "python",
   "pygments_lexer": "ipython3",
   "version": "3.10.6"
  },
  "orig_nbformat": 4,
  "vscode": {
   "interpreter": {
    "hash": "b83c9a8dd9e827608b69df9803e9a64013aba0ca762f16a510c397012afe56da"
   }
  }
 },
 "nbformat": 4,
 "nbformat_minor": 2
}
