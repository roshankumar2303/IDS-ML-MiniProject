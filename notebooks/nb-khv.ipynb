{
 "cells": [
  {
   "cell_type": "code",
   "execution_count": 4,
   "metadata": {},
   "outputs": [],
   "source": [
    "import win32pdh\n",
    "import time"
   ]
  },
  {
   "cell_type": "code",
   "execution_count": 5,
   "metadata": {},
   "outputs": [],
   "source": [
    "def GetPerformanceAttributes(object, counter, instance = None, inum=-1,\n",
    "                             format = win32pdh.PDH_FMT_LONG, machine=None):\n",
    "    # NOTE: Many counters require 2 samples to give accurate results,\n",
    "    # including \"% Processor Time\" (as by definition, at any instant, a\n",
    "    # thread's CPU usage is either 0 or 100).  To read counters like this,\n",
    "    # you should copy this function, but keep the counter open, and call\n",
    "    # CollectQueryData() each time you need to know.\n",
    "    # See http://support.microsoft.com/default.aspx?scid=kb;EN-US;q262938\n",
    "    # and http://msdn.microsoft.com/library/en-us/dnperfmo/html/perfmonpt2.asp\n",
    "    # My older explanation for this was that the \"AddCounter\" process forced\n",
    "    # the CPU to 100%, but the above makes more sense :)\n",
    "    path = win32pdh.MakeCounterPath( (machine,object,instance, None, inum,counter) )\n",
    "    hq = win32pdh.OpenQuery()\n",
    "    try:\n",
    "        hc = win32pdh.AddCounter(hq, path)\n",
    "        try:\n",
    "            win32pdh.CollectQueryData(hq)\n",
    "            time.sleep(1)\n",
    "            win32pdh.CollectQueryData(hq)\n",
    "            type, val = win32pdh.GetFormattedCounterValue(hc, format)\n",
    "            return val\n",
    "        finally:\n",
    "            win32pdh.RemoveCounter(hc)\n",
    "    finally:\n",
    "        win32pdh.CloseQuery(hq)"
   ]
  },
  {
   "cell_type": "code",
   "execution_count": 79,
   "metadata": {},
   "outputs": [
    {
     "data": {
      "text/plain": [
       "290845"
      ]
     },
     "execution_count": 79,
     "metadata": {},
     "output_type": "execute_result"
    }
   ],
   "source": [
    "x = GetPerformanceAttributes(\"LogicalDisk\", \"Disk Bytes/sec\", instance=\"_Total\")\n",
    "x"
   ]
  },
  {
   "cell_type": "code",
   "execution_count": 55,
   "metadata": {},
   "outputs": [],
   "source": [
    "d = {\n",
    "    \"% Idle Time\": \"Processor\", #_Total\n",
    "    \"% Interrupt Time\": \"Processor\", #_Total\n",
    "    \"% User Time\": \"Processor\", #_Total\n",
    "    \"% C1 Time\": \"Processor\", #_Total\n",
    "    \"% Processor Time\": \"Processor\", #_Total\n",
    "    \"% DPC Time\": \"Processor\", #_Total\n",
    "    \"% Privileged Time\": \"Processor\", #_Total\n",
    "    \"Interrupts/sec\": \"Processor\", #_Total\n",
    "    \"Pool Paged Bytes\": \"Process\", #_Total\n",
    "    \"Working Set - Private\": \"Process\", #_Total\n",
    "    \"Working Set Peak\": \"Process\", #_Total\n",
    "    \"Page File Bytes\": \"Process\", #_Total\n",
    "    \"% User Time\": \"Process\", #_Total\n",
    "    \"Virtual Bytes Peak\": \"Process\", #_Total\n",
    "    \"Page File Bytes Peak\": \"Process\", #_Total\n",
    "    \"Private Bytes\": \"Process\", #_Total\n",
    "    \"Virtual Bytes\": \"Process\", #_Total\n",
    "    \"Working Set\": \"Process\", #_Total\n",
    "    \"IO Other Operations/sec\": \"Process\", #_Total\n",
    "    \"Thread Count\": \"Process\", #_Total\n",
    "    \"% Privileged Time\": \"Process\", #_Total\n",
    "    \"Handle Count\": \"Process\", #_Total\n",
    "    \"TCP RSC Average Packet Size\": \"Network Interface\", #Realtek RTL8821CE 802.11ac PCIe Adapter\"\n",
    "    \"Bytes Sent/sec\": \"Network Interface\", #Realtek RTL8821CE 802.11ac PCIe Adapter\"\n",
    "    \"Packets Sent Unicast/sec\": \"Network Interface\", #Realtek RTL8821CE 802.11ac PCIe Adapter\"\n",
    "    \"Packets/sec\": \"Network Interface\", #Realtek RTL8821CE 802.11ac PCIe Adapter\"\n",
    "    \"Packets Sent/sec\": \"Network Interface\", #Realtek RTL8821CE 802.11ac PCIe Adapter\"\n",
    "    \"Pool Paged Bytes\": \"Memory\",\n",
    "    \"Free & Zero Page List Bytes\": \"Memory\",\n",
    "    \"Cache Bytes Peak\": \"Memory\",\n",
    "    \"Available Bytes\": \"Memory\",\n",
    "    \"Commit Limit\": \"Memory\",\n",
    "    \"Available KBytes\": \"Memory\",\n",
    "    \"Pages/sec\": \"Memory\",\n",
    "    \"Cache Bytes\": \"Memory\",\n",
    "    \"Pool Nonpaged Bytes\": \"Memory\",\n",
    "    \"System Cache Resident Bytes\": \"Memory\",\n",
    "    \"Long-Term Average Standby Cache Lifetime (s)\": \"Memory\",\n",
    "    \"Standby Cache Reserve Bytes\": \"Memory\",\n",
    "    \"Standby Cache Core Bytes\": \"Memory\",\n",
    "    \"System Driver Resident Bytes\": \"Memory\",\n",
    "    \"Standby Cache Normal Priority Bytes\": \"Memory\",\n",
    "    \"% Committed Bytes In Use\": \"Memory\",\n",
    "    \"Available MBytes\": \"Memory\",\n",
    "    \"Committed Bytes\": \"Memory\",\n",
    "    \"System Driver Total Bytes\": \"Memory\",\n",
    "    \"Pool Paged Resident Bytes\": \"Memory\",\n",
    "    \"% Free Space\": \"LogicalDisk\", #_Total\n",
    "    \"Free Megabytes\": \"LogicalDisk\", #_Total\n",
    "    \"Disk Bytes/sec\": \"LogicalDisk\", #_Total\n",
    "    \"TCP Active RSC Connections\": \"Network Interface\" #Realtek RTL8821CE 802.11ac PCIe Adapter\"\n",
    "}"
   ]
  }
 ],
 "metadata": {
  "kernelspec": {
   "display_name": "Python 3.10.6 ('env': venv)",
   "language": "python",
   "name": "python3"
  },
  "language_info": {
   "codemirror_mode": {
    "name": "ipython",
    "version": 3
   },
   "file_extension": ".py",
   "mimetype": "text/x-python",
   "name": "python",
   "nbconvert_exporter": "python",
   "pygments_lexer": "ipython3",
   "version": "3.10.6"
  },
  "orig_nbformat": 4,
  "vscode": {
   "interpreter": {
    "hash": "b83c9a8dd9e827608b69df9803e9a64013aba0ca762f16a510c397012afe56da"
   }
  }
 },
 "nbformat": 4,
 "nbformat_minor": 2
}
